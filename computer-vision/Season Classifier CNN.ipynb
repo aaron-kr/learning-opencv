{
 "cells": [
  {
   "cell_type": "markdown",
   "metadata": {},
   "source": [
    "# Season Image Classifier CNN\n",
    "---\n",
    "\n",
    "This Season Image Classifier CNN project is a continuation of my previous Season Image Classifier that attempted to perform basic feature extraction such as colors from different images and try to classify them as being of one of the four seasons. It was originally inspired by a Day and Night Image Classifier project as part of [Udacity's Computer Vision Nanodegree](https://www.udacity.com/course/computer-vision-nanodegree--nd891) training.\n",
    "\n",
    "**Dataset**\n",
    "\n",
    "The dataset consists of [280] RGB color images split into two directories and four categories each (spring, summer, fall, and winter):\n",
    "\n",
    "    img_train: 200 images for training (50 of each season)\n",
    "    img_test: 80 images for testing (20 of each season)\n",
    "    \n",
    "The goal of this project is to train a Convolutional Neural Network (CNN) that can classify and accurately label images based on the season in which they were taken. \n",
    "\n",
    "*Note: I have received access to the [AMOS dataset](http://cs.uky.edu/~jacobs/datasets/amos/) (Archive of Many Outdoor Scenes), but I haven't had time to properly label all the data yet, so I'm using CC0 images collected from [Pexels](https://pexels.com).*"
   ]
  },
  {
   "cell_type": "markdown",
   "metadata": {},
   "source": [
    "### Import resources and load data"
   ]
  },
  {
   "cell_type": "code",
   "execution_count": 2,
   "metadata": {},
   "outputs": [
    {
     "ename": "ModuleNotFoundError",
     "evalue": "No module named 'torchvision'",
     "output_type": "error",
     "traceback": [
      "\u001b[0;31m---------------------------------------------------------------------------\u001b[0m",
      "\u001b[0;31mModuleNotFoundError\u001b[0m                       Traceback (most recent call last)",
      "\u001b[0;32m<ipython-input-2-165082a2fd53>\u001b[0m in \u001b[0;36m<module>\u001b[0;34m\u001b[0m\n\u001b[1;32m      1\u001b[0m \u001b[0;31m# basic libraries\u001b[0m\u001b[0;34m\u001b[0m\u001b[0;34m\u001b[0m\u001b[0;34m\u001b[0m\u001b[0m\n\u001b[1;32m      2\u001b[0m \u001b[0;32mimport\u001b[0m \u001b[0mtorch\u001b[0m\u001b[0;34m\u001b[0m\u001b[0;34m\u001b[0m\u001b[0m\n\u001b[0;32m----> 3\u001b[0;31m \u001b[0;32mimport\u001b[0m \u001b[0mtorchvision\u001b[0m\u001b[0;34m\u001b[0m\u001b[0;34m\u001b[0m\u001b[0m\n\u001b[0m\u001b[1;32m      4\u001b[0m \u001b[0;34m\u001b[0m\u001b[0m\n\u001b[1;32m      5\u001b[0m \u001b[0;31m# data loading and transforming (pre-processing)\u001b[0m\u001b[0;34m\u001b[0m\u001b[0;34m\u001b[0m\u001b[0;34m\u001b[0m\u001b[0m\n",
      "\u001b[0;31mModuleNotFoundError\u001b[0m: No module named 'torchvision'"
     ]
    }
   ],
   "source": [
    "# basic libraries\n",
    "import torch\n",
    "import torchvision\n",
    "\n",
    "# data loading and transforming (pre-processing)\n",
    "from torch.utils.data import DataLoader\n",
    "from torchvision import transforms, utils\n",
    "\n",
    "# The output of torchvision datasets are PILImage images of range [0,1].\n",
    "# We transform them to Tensors for input into a CNN.\n",
    "\n",
    "## Define transforms for pre-processing the data.\n",
    "data_transform = transforms.ToTensor()\n",
    "\n",
    "# Load the training and test datasets\n",
    "img_train = 'img/train/'\n",
    "img_test = 'img/test/'"
   ]
  },
  {
   "cell_type": "code",
   "execution_count": null,
   "metadata": {},
   "outputs": [],
   "source": []
  }
 ],
 "metadata": {
  "kernelspec": {
   "display_name": "Python 3",
   "language": "python",
   "name": "python3"
  },
  "language_info": {
   "codemirror_mode": {
    "name": "ipython",
    "version": 3
   },
   "file_extension": ".py",
   "mimetype": "text/x-python",
   "name": "python",
   "nbconvert_exporter": "python",
   "pygments_lexer": "ipython3",
   "version": "3.8.5"
  }
 },
 "nbformat": 4,
 "nbformat_minor": 4
}
